{
 "cells": [
  {
   "cell_type": "markdown",
   "metadata": {},
   "source": [
    "This is data from Swiss National Air Pollution Monitoring Network (NABEL) https://www.bafu.admin.ch/bafu/en/home/topics/air/state/data/data-query-nabel.html\n",
    "\n",
    "The files have been downloaded as csv, in this example hourly mean temperatures for a month for two stations: Lausanne-César-Roux and Jungfraujoch"
   ]
  },
  {
   "cell_type": "code",
   "execution_count": null,
   "metadata": {
    "collapsed": true
   },
   "outputs": [],
   "source": [
    "import pandas as pd\n",
    "import numpy as np\n",
    "import matplotlib.pyplot as plt"
   ]
  },
  {
   "cell_type": "code",
   "execution_count": null,
   "metadata": {
    "scrolled": true
   },
   "outputs": [],
   "source": [
    "dataset = pd.read_table('data/TEMP.csv',encoding = \"ISO-8859-1\")\n",
    "# read_csv did not work so we try with read_table, but even for that we have to define the encoding for characters\n",
    "dataset.head(6)\n",
    "# We observe that the files have some text lines preceeding the actual header (on line 5) \n",
    "# and the values are separated with semicolon\n"
   ]
  },
  {
   "cell_type": "code",
   "execution_count": null,
   "metadata": {},
   "outputs": [],
   "source": [
    "# Now read the file again adding the parameters for the separator and the header line\n",
    "dataset = pd.read_csv('data/TEMP.csv', sep=';', header=5,encoding = \"ISO-8859-1\")\n",
    "dataset.head()"
   ]
  },
  {
   "cell_type": "code",
   "execution_count": null,
   "metadata": {},
   "outputs": [],
   "source": [
    "# The date is in a format, which we cannot directly use in plotting\n",
    "# Print out first some values (this is not necessary for the plot, but just to see what is in there).\n",
    "\n",
    "datefromfile = dataset['Date/time']\n",
    "print('This is the format in the file: ', datefromfile[1])\n",
    "\n",
    "import time\n",
    "from time import mktime\n",
    "from datetime import datetime\n",
    "# First convert one element in the list to a \"struct_time\"\n",
    "mytime = time.strptime(datefromfile[1], \"%d.%m.%Y %H:%M\") \n",
    "print('This is the outcome of strptime, i.e. \"struct_time\": ', mytime)\n",
    "# Then convert struct_time further to a format which matplotlib can plot\n",
    "dt = datetime.fromtimestamp(mktime(mytime))\n",
    "print('This is the \"datetime\" format which matplotlib can plot: ', dt)"
   ]
  },
  {
   "cell_type": "code",
   "execution_count": null,
   "metadata": {
    "collapsed": true
   },
   "outputs": [],
   "source": [
    "# This was only one element, now make a the full list out of the values in the file\n",
    "dates_list = [time.strptime(date, \"%d.%m.%Y %H:%M\") for date in datefromfile]\n",
    "# Convert \"struct_time\" to \"datetime\" which matplotllib's plot_date can handle\n",
    "dt_list =  [datetime.fromtimestamp(mktime(date)) for date in dates_list]\n",
    "# This could have been combined with the previous line but it is here as a separate step for the sake of clarity\n"
   ]
  },
  {
   "cell_type": "code",
   "execution_count": null,
   "metadata": {},
   "outputs": [],
   "source": [
    "tempJJ  = dataset['Jungfraujoch']\n",
    "tempL = dataset['Lausanne-César-Roux']\n",
    "\n",
    "# note that plot_date plots markers as default,\n",
    "# the solid line (the plot() defaults) comes with options linestyle='solid', marker='None'\n",
    "plt.plot_date(dt_list, tempJJ, linestyle='solid', marker='None', label='Jungfraujoch')\n",
    "plt.plot_date(dt_list, tempL, linestyle='solid', marker='None', label='Lausanne-César-Roux')\n",
    "plt.xlabel('Time')\n",
    "plt.ylabel('Temperature (Celsius)')\n",
    "plt.title('The temperature measured by Swiss National Air Pollution Monitoring Network (NABEL)  \\n')\n",
    "plt.legend()\n",
    "\n",
    "plt.show()"
   ]
  },
  {
   "cell_type": "code",
   "execution_count": null,
   "metadata": {},
   "outputs": [],
   "source": [
    "# Without the time scale in x-axis, it would have been simpler...\n",
    "plt.plot(tempJJ)\n",
    "plt.plot(tempL)\n",
    "\n",
    "plt.show()"
   ]
  },
  {
   "cell_type": "code",
   "execution_count": null,
   "metadata": {
    "collapsed": true
   },
   "outputs": [],
   "source": []
  }
 ],
 "metadata": {
  "kernelspec": {
   "display_name": "Python 3",
   "language": "python",
   "name": "python3"
  },
  "language_info": {
   "codemirror_mode": {
    "name": "ipython",
    "version": 3
   },
   "file_extension": ".py",
   "mimetype": "text/x-python",
   "name": "python",
   "nbconvert_exporter": "python",
   "pygments_lexer": "ipython3",
   "version": "3.6.0"
  }
 },
 "nbformat": 4,
 "nbformat_minor": 2
}
