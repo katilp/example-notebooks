{
 "cells": [
  {
   "cell_type": "markdown",
   "metadata": {},
   "source": [
    "This is data from https://data.gov.uk/dataset/average-temperature-and-rainfall-england-and-wales (Average temp and rainfall England and Wales 1845 to 2012)"
   ]
  },
  {
   "cell_type": "code",
   "execution_count": 1,
   "metadata": {
    "collapsed": true
   },
   "outputs": [],
   "source": [
    "import pandas as pd\n",
    "import numpy as np\n",
    "import matplotlib.pyplot as plt"
   ]
  },
  {
   "cell_type": "code",
   "execution_count": 5,
   "metadata": {
    "collapsed": false
   },
   "outputs": [
    {
     "data": {
      "text/html": [
       "<div>\n",
       "<table border=\"1\" class=\"dataframe\">\n",
       "  <thead>\n",
       "    <tr style=\"text-align: right;\">\n",
       "      <th></th>\n",
       "      <th>Year</th>\n",
       "      <th>Temp (°C) Dec-Feb</th>\n",
       "      <th>Rain (mm) Dec-Feb</th>\n",
       "      <th>Temp (°C) Jun-Aug</th>\n",
       "      <th>Rain (mm) Jun-Aug</th>\n",
       "      <th>Temp (oC) Jan-Dec</th>\n",
       "      <th>Rain (mm) Jan-Dec</th>\n",
       "    </tr>\n",
       "  </thead>\n",
       "  <tbody>\n",
       "    <tr>\n",
       "      <th>0</th>\n",
       "      <td>1845 to1979 mean</td>\n",
       "      <td>4.0</td>\n",
       "      <td>240.9</td>\n",
       "      <td>15.2</td>\n",
       "      <td>225.9</td>\n",
       "      <td>9.3</td>\n",
       "      <td>915.6</td>\n",
       "    </tr>\n",
       "    <tr>\n",
       "      <th>1</th>\n",
       "      <td>1845</td>\n",
       "      <td>-2.5</td>\n",
       "      <td>-112.0</td>\n",
       "      <td>-1.0</td>\n",
       "      <td>45.7</td>\n",
       "      <td>-1.4</td>\n",
       "      <td>-41.6</td>\n",
       "    </tr>\n",
       "    <tr>\n",
       "      <th>2</th>\n",
       "      <td>1846</td>\n",
       "      <td>1.7</td>\n",
       "      <td>1.3</td>\n",
       "      <td>1.8</td>\n",
       "      <td>30.3</td>\n",
       "      <td>1.2</td>\n",
       "      <td>11.8</td>\n",
       "    </tr>\n",
       "    <tr>\n",
       "      <th>3</th>\n",
       "      <td>1847</td>\n",
       "      <td>-2.3</td>\n",
       "      <td>-83.5</td>\n",
       "      <td>0.3</td>\n",
       "      <td>-73.8</td>\n",
       "      <td>0.0</td>\n",
       "      <td>-67.2</td>\n",
       "    </tr>\n",
       "    <tr>\n",
       "      <th>4</th>\n",
       "      <td>1848</td>\n",
       "      <td>0.0</td>\n",
       "      <td>65.8</td>\n",
       "      <td>-0.7</td>\n",
       "      <td>118.4</td>\n",
       "      <td>-0.1</td>\n",
       "      <td>214.5</td>\n",
       "    </tr>\n",
       "  </tbody>\n",
       "</table>\n",
       "</div>"
      ],
      "text/plain": [
       "               Year  Temp (°C) Dec-Feb  Rain (mm) Dec-Feb  Temp (°C) Jun-Aug  \\\n",
       "0  1845 to1979 mean                4.0              240.9               15.2   \n",
       "1              1845               -2.5             -112.0               -1.0   \n",
       "2              1846                1.7                1.3                1.8   \n",
       "3              1847               -2.3              -83.5                0.3   \n",
       "4              1848                0.0               65.8               -0.7   \n",
       "\n",
       "   Rain (mm) Jun-Aug  Temp (oC) Jan-Dec  Rain (mm) Jan-Dec  \n",
       "0              225.9                9.3              915.6  \n",
       "1               45.7               -1.4              -41.6  \n",
       "2               30.3                1.2               11.8  \n",
       "3              -73.8                0.0              -67.2  \n",
       "4              118.4               -0.1              214.5  "
      ]
     },
     "execution_count": 5,
     "metadata": {},
     "output_type": "execute_result"
    }
   ],
   "source": [
    "dataset = pd.read_csv('data/iwfg01_raintemp_1845_2012v2.csv')\n",
    "#Note that some of the original column headers look bit difficult to treat, let's change at least \"Unnamed: 0\" - > Year\n",
    "dataset.head()"
   ]
  },
  {
   "cell_type": "code",
   "execution_count": 6,
   "metadata": {
    "collapsed": false
   },
   "outputs": [
    {
     "data": {
      "text/html": [
       "<div>\n",
       "<table border=\"1\" class=\"dataframe\">\n",
       "  <thead>\n",
       "    <tr style=\"text-align: right;\">\n",
       "      <th></th>\n",
       "      <th>Year</th>\n",
       "      <th>Temp (°C) Dec-Feb</th>\n",
       "      <th>Rain (mm) Dec-Feb</th>\n",
       "      <th>Temp (°C) Jun-Aug</th>\n",
       "      <th>Rain (mm) Jun-Aug</th>\n",
       "      <th>Temp (oC) Jan-Dec</th>\n",
       "      <th>Rain (mm) Jan-Dec</th>\n",
       "    </tr>\n",
       "  </thead>\n",
       "  <tbody>\n",
       "    <tr>\n",
       "      <th>164</th>\n",
       "      <td>2008</td>\n",
       "      <td>1.6</td>\n",
       "      <td>39.7</td>\n",
       "      <td>0.2</td>\n",
       "      <td>60.8</td>\n",
       "      <td>0.6</td>\n",
       "      <td>173.9</td>\n",
       "    </tr>\n",
       "    <tr>\n",
       "      <th>165</th>\n",
       "      <td>2009</td>\n",
       "      <td>-0.5</td>\n",
       "      <td>-21.0</td>\n",
       "      <td>0.6</td>\n",
       "      <td>33.1</td>\n",
       "      <td>0.5</td>\n",
       "      <td>61.5</td>\n",
       "    </tr>\n",
       "    <tr>\n",
       "      <th>166</th>\n",
       "      <td>2010</td>\n",
       "      <td>-1.6</td>\n",
       "      <td>30.7</td>\n",
       "      <td>0.6</td>\n",
       "      <td>-8.1</td>\n",
       "      <td>0.1</td>\n",
       "      <td>-93.2</td>\n",
       "    </tr>\n",
       "    <tr>\n",
       "      <th>167</th>\n",
       "      <td>2011</td>\n",
       "      <td>-1.0</td>\n",
       "      <td>-30.8</td>\n",
       "      <td>-0.4</td>\n",
       "      <td>12.7</td>\n",
       "      <td>1.2</td>\n",
       "      <td>-128.7</td>\n",
       "    </tr>\n",
       "    <tr>\n",
       "      <th>168</th>\n",
       "      <td>2012</td>\n",
       "      <td>1.1</td>\n",
       "      <td>-28.0</td>\n",
       "      <td>NaN</td>\n",
       "      <td>NaN</td>\n",
       "      <td>NaN</td>\n",
       "      <td>NaN</td>\n",
       "    </tr>\n",
       "  </tbody>\n",
       "</table>\n",
       "</div>"
      ],
      "text/plain": [
       "     Year  Temp (°C) Dec-Feb  Rain (mm) Dec-Feb  Temp (°C) Jun-Aug  \\\n",
       "164  2008                1.6               39.7                0.2   \n",
       "165  2009               -0.5              -21.0                0.6   \n",
       "166  2010               -1.6               30.7                0.6   \n",
       "167  2011               -1.0              -30.8               -0.4   \n",
       "168  2012                1.1              -28.0                NaN   \n",
       "\n",
       "     Rain (mm) Jun-Aug  Temp (oC) Jan-Dec  Rain (mm) Jan-Dec  \n",
       "164               60.8                0.6              173.9  \n",
       "165               33.1                0.5               61.5  \n",
       "166               -8.1                0.1              -93.2  \n",
       "167               12.7                1.2             -128.7  \n",
       "168                NaN                NaN                NaN  "
      ]
     },
     "execution_count": 6,
     "metadata": {},
     "output_type": "execute_result"
    }
   ],
   "source": [
    "dataset.tail()\n",
    "#original dataset has NaN's in the end, in the following we must then ignore the first (avarage) entry and the last (NaN)"
   ]
  },
  {
   "cell_type": "code",
   "execution_count": 10,
   "metadata": {
    "collapsed": false
   },
   "outputs": [
    {
     "name": "stdout",
     "output_type": "stream",
     "text": [
      "1      1845\n",
      "2      1846\n",
      "3      1847\n",
      "4      1848\n",
      "5      1849\n",
      "6      1850\n",
      "7      1851\n",
      "8      1852\n",
      "9      1853\n",
      "10     1854\n",
      "11     1855\n",
      "12     1856\n",
      "13     1857\n",
      "14     1858\n",
      "15     1859\n",
      "16     1860\n",
      "17     1861\n",
      "18     1862\n",
      "19     1863\n",
      "20     1864\n",
      "21     1865\n",
      "22     1866\n",
      "23     1867\n",
      "24     1868\n",
      "25     1869\n",
      "26     1870\n",
      "27     1871\n",
      "28     1872\n",
      "29     1873\n",
      "30     1874\n",
      "       ... \n",
      "137    1981\n",
      "138    1982\n",
      "139    1983\n",
      "140    1984\n",
      "141    1985\n",
      "142    1986\n",
      "143    1987\n",
      "144    1988\n",
      "145    1989\n",
      "146    1990\n",
      "147    1991\n",
      "148    1992\n",
      "149    1993\n",
      "150    1994\n",
      "151    1995\n",
      "152    1996\n",
      "153    1997\n",
      "154    1998\n",
      "155    1999\n",
      "156    2000\n",
      "157    2001\n",
      "158    2002\n",
      "159    2003\n",
      "160    2004\n",
      "161    2005\n",
      "162    2006\n",
      "163    2007\n",
      "164    2008\n",
      "165    2009\n",
      "166    2010\n",
      "Name: Year, dtype: object\n"
     ]
    }
   ],
   "source": [
    "#Take year ignoring the first and last\n",
    "all_years  = dataset['Year']\n",
    "year = all_years[1:167]\n",
    "print(year)"
   ]
  },
  {
   "cell_type": "code",
   "execution_count": 11,
   "metadata": {
    "collapsed": false
   },
   "outputs": [
    {
     "name": "stdout",
     "output_type": "stream",
     "text": [
      "1     -1.4\n",
      "2      1.2\n",
      "3      0.0\n",
      "4     -0.1\n",
      "5      0.1\n",
      "6     -0.2\n",
      "7      0.1\n",
      "8      0.0\n",
      "9     -0.6\n",
      "10    -0.2\n",
      "11    -1.1\n",
      "12     0.0\n",
      "13     0.6\n",
      "14    -0.4\n",
      "15     0.3\n",
      "16    -1.2\n",
      "17     0.0\n",
      "18    -0.1\n",
      "19     0.1\n",
      "20    -0.3\n",
      "21     0.4\n",
      "22     0.1\n",
      "23     0.0\n",
      "24     0.7\n",
      "25     0.1\n",
      "26    -0.1\n",
      "27    -0.1\n",
      "28     0.4\n",
      "29    -0.8\n",
      "30     0.4\n",
      "      ... \n",
      "137    0.3\n",
      "138    0.6\n",
      "139    0.7\n",
      "140    0.5\n",
      "141   -0.4\n",
      "142   -0.6\n",
      "143   -0.1\n",
      "144    0.3\n",
      "145    1.2\n",
      "146    1.4\n",
      "147    0.2\n",
      "148    0.7\n",
      "149    0.3\n",
      "150    0.6\n",
      "151    1.3\n",
      "152    0.2\n",
      "153    1.2\n",
      "154    1.0\n",
      "155    1.4\n",
      "156    0.8\n",
      "157    0.8\n",
      "158    1.2\n",
      "159    1.3\n",
      "160    1.1\n",
      "161    1.3\n",
      "162    1.4\n",
      "163    1.0\n",
      "164    0.6\n",
      "165    0.5\n",
      "166    0.1\n",
      "Name: Temp (oC) Jan-Dec, dtype: float64\n"
     ]
    }
   ],
   "source": [
    "#Take temperatures ignoring the first and last\n",
    "all_temps  = dataset['Temp (oC) Jan-Dec']\n",
    "temp = all_temps[1:167]\n",
    "print(temp)"
   ]
  },
  {
   "cell_type": "code",
   "execution_count": 13,
   "metadata": {
    "collapsed": false
   },
   "outputs": [
    {
     "data": {
      "image/png": "[encoded data removed]",
      "text/plain": [
       "<matplotlib.figure.Figure at 0x20292b0c518>"
      ]
     },
     "metadata": {},
     "output_type": "display_data"
    }
   ],
   "source": [
    "plt.plot(year,temp)\n",
    "plt.show()"
   ]
  },
  {
   "cell_type": "code",
   "execution_count": null,
   "metadata": {
    "collapsed": true
   },
   "outputs": [],
   "source": []
  }
 ],
 "metadata": {
  "kernelspec": {
   "display_name": "Python 3",
   "language": "python",
   "name": "python3"
  },
  "language_info": {
   "codemirror_mode": {
    "name": "ipython",
    "version": 3
   },
   "file_extension": ".py",
   "mimetype": "text/x-python",
   "name": "python",
   "nbconvert_exporter": "python",
   "pygments_lexer": "ipython3",
   "version": "3.6.0"
  }
 },
 "nbformat": 4,
 "nbformat_minor": 2
}
