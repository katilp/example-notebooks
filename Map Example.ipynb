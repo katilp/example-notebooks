{
 "cells": [
  {
   "cell_type": "markdown",
   "metadata": {},
   "source": [
    "Before running this notebook you will need to install gmaps packages as instructed in https://github.com/pbugnion/gmaps i.e. open anaconda prompt and type: <br>``` conda install -c conda-forge gmaps```<br>"
   ]
  },
  {
   "cell_type": "markdown",
   "metadata": {},
   "source": [
    "You will need to type a google API key in the notebook, you can create one for you in through <br> https://developers.google.com/maps/documentation/javascript/get-api-key"
   ]
  },
  {
   "cell_type": "markdown",
   "metadata": {},
   "source": [
    "In this notebook, there are some examples just to get started, you can find more examples in <br> http://jupyter-gmaps.readthedocs.io/en/latest/gmaps.html#base-maps"
   ]
  },
  {
   "cell_type": "code",
   "execution_count": 1,
   "metadata": {},
   "outputs": [
    {
     "data": {
      "text/html": [
       "<div>\n",
       "<table border=\"1\" class=\"dataframe\">\n",
       "  <thead>\n",
       "    <tr style=\"text-align: right;\">\n",
       "      <th></th>\n",
       "      <th>latitude</th>\n",
       "      <th>longitude</th>\n",
       "      <th>magnitude</th>\n",
       "    </tr>\n",
       "  </thead>\n",
       "  <tbody>\n",
       "    <tr>\n",
       "      <th>0</th>\n",
       "      <td>65.193300</td>\n",
       "      <td>-149.072500</td>\n",
       "      <td>1.70</td>\n",
       "    </tr>\n",
       "    <tr>\n",
       "      <th>1</th>\n",
       "      <td>38.791832</td>\n",
       "      <td>-122.780830</td>\n",
       "      <td>2.10</td>\n",
       "    </tr>\n",
       "    <tr>\n",
       "      <th>2</th>\n",
       "      <td>38.818001</td>\n",
       "      <td>-122.792168</td>\n",
       "      <td>0.48</td>\n",
       "    </tr>\n",
       "    <tr>\n",
       "      <th>3</th>\n",
       "      <td>33.601667</td>\n",
       "      <td>-116.727667</td>\n",
       "      <td>0.78</td>\n",
       "    </tr>\n",
       "    <tr>\n",
       "      <th>4</th>\n",
       "      <td>37.378334</td>\n",
       "      <td>-118.520836</td>\n",
       "      <td>3.64</td>\n",
       "    </tr>\n",
       "  </tbody>\n",
       "</table>\n",
       "</div>"
      ],
      "text/plain": [
       "    latitude   longitude  magnitude\n",
       "0  65.193300 -149.072500       1.70\n",
       "1  38.791832 -122.780830       2.10\n",
       "2  38.818001 -122.792168       0.48\n",
       "3  33.601667 -116.727667       0.78\n",
       "4  37.378334 -118.520836       3.64"
      ]
     },
     "execution_count": 1,
     "metadata": {},
     "output_type": "execute_result"
    }
   ],
   "source": [
    "import gmaps\n",
    "import gmaps.datasets\n",
    "\n",
    "gmaps.configure(api_key=\"AI...\") # Fill in with your API key\n",
    "\n",
    "\n",
    "# This is a ready-made example with the data included in the package\n",
    "# If you are curious, you can see how these example datasets are included in \n",
    "# Anaconda3/pkgs/gmaps-0.5.4-py36_07/Lib/site-packages/gmaps/datasets/datasets\n",
    "earthquake_df = gmaps.datasets.load_dataset_as_df(\"earthquakes\")\n",
    "earthquake_df.head()"
   ]
  },
  {
   "cell_type": "code",
   "execution_count": 2,
   "metadata": {},
   "outputs": [
    {
     "data": {
      "application/vnd.jupyter.widget-view+json": {
       "model_id": "453e02259399438a8c4bbad98a94b9c0"
      }
     },
     "metadata": {},
     "output_type": "display_data"
    }
   ],
   "source": [
    "locations = earthquake_df[[\"latitude\", \"longitude\"]]\n",
    "weights = earthquake_df[\"magnitude\"]\n",
    "fig = gmaps.figure()\n",
    "fig.add_layer(gmaps.heatmap_layer(locations, weights=weights))\n",
    "fig"
   ]
  },
  {
   "cell_type": "code",
   "execution_count": 3,
   "metadata": {},
   "outputs": [
    {
     "data": {
      "application/vnd.jupyter.widget-view+json": {
       "model_id": "41efaf95df834e3eb73df3b6f1080d3d"
      }
     },
     "metadata": {},
     "output_type": "display_data"
    }
   ],
   "source": [
    "new_york_coordinates = (40.75, -74.00)\n",
    "gmaps.figure(center=new_york_coordinates, zoom_level=12)"
   ]
  },
  {
   "cell_type": "code",
   "execution_count": 4,
   "metadata": {},
   "outputs": [
    {
     "data": {
      "application/vnd.jupyter.widget-view+json": {
       "model_id": "9d3f8c77b8b8441db73e2bcd215b0fe0"
      }
     },
     "metadata": {},
     "output_type": "display_data"
    }
   ],
   "source": [
    "meyrin_coordinates = (46.2283, 6.0710)\n",
    "gmaps.figure(center=meyrin_coordinates, zoom_level=14)"
   ]
  },
  {
   "cell_type": "code",
   "execution_count": 5,
   "metadata": {},
   "outputs": [
    {
     "data": {
      "application/vnd.jupyter.widget-view+json": {
       "model_id": "78012df5d7594e8f82e1043c47e32a93"
      }
     },
     "metadata": {},
     "output_type": "display_data"
    }
   ],
   "source": [
    "marker_locations = [\n",
    "    (61.4978, 23.7610),\n",
    "    (62.8980, 27.6782),\n",
    "    (60.9929, 24.4590)\n",
    "]\n",
    "\n",
    "fig = gmaps.figure()\n",
    "markers = gmaps.marker_layer(marker_locations)\n",
    "fig.add_layer(markers)\n",
    "fig"
   ]
  },
  {
   "cell_type": "code",
   "execution_count": 6,
   "metadata": {},
   "outputs": [
    {
     "data": {
      "application/vnd.jupyter.widget-view+json": {
       "model_id": "9bb7b51945314b70a1c8ca637f452d5f"
      }
     },
     "metadata": {},
     "output_type": "display_data"
    }
   ],
   "source": [
    "# Latitude-longitude pairs\n",
    "utsjoki = (69.9090, 27.0285)\n",
    "helsinki_airport = (60.3210, 24.9529)\n",
    "zurich = (47.4, 8.5)\n",
    "\n",
    "fig = gmaps.figure()\n",
    "utsjoki2helsinki_airport = gmaps.directions_layer(utsjoki, helsinki_airport)\n",
    "fig.add_layer(utsjoki2helsinki_airport)\n",
    "fig"
   ]
  },
  {
   "cell_type": "code",
   "execution_count": null,
   "metadata": {
    "collapsed": true
   },
   "outputs": [],
   "source": []
  }
 ],
 "metadata": {
  "kernelspec": {
   "display_name": "Python 3",
   "language": "python",
   "name": "python3"
  },
  "language_info": {
   "codemirror_mode": {
    "name": "ipython",
    "version": 3
   },
   "file_extension": ".py",
   "mimetype": "text/x-python",
   "name": "python",
   "nbconvert_exporter": "python",
   "pygments_lexer": "ipython3",
   "version": "3.6.0"
  }
 },
 "nbformat": 4,
 "nbformat_minor": 2
}
