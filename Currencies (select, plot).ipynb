{
 "cells": [
  {
   "cell_type": "markdown",
   "metadata": {},
   "source": [
    "This notebook analyses exchange rates of several currencies with respect to USD. Source: https://data.oecd.org/conversion/exchange-rates.htm"
   ]
  },
  {
   "cell_type": "code",
   "execution_count": 1,
   "metadata": {
    "collapsed": true
   },
   "outputs": [],
   "source": [
    "import pandas as pd\n",
    "import numpy as np\n",
    "import matplotlib.pyplot as plt"
   ]
  },
  {
   "cell_type": "code",
   "execution_count": 2,
   "metadata": {},
   "outputs": [
    {
     "data": {
      "text/html": [
       "<div>\n",
       "<table border=\"1\" class=\"dataframe\">\n",
       "  <thead>\n",
       "    <tr style=\"text-align: right;\">\n",
       "      <th></th>\n",
       "      <th>LOCATION</th>\n",
       "      <th>INDICATOR</th>\n",
       "      <th>SUBJECT</th>\n",
       "      <th>MEASURE</th>\n",
       "      <th>FREQUENCY</th>\n",
       "      <th>TIME</th>\n",
       "      <th>Value</th>\n",
       "      <th>Flag Codes</th>\n",
       "    </tr>\n",
       "  </thead>\n",
       "  <tbody>\n",
       "    <tr>\n",
       "      <th>0</th>\n",
       "      <td>AUS</td>\n",
       "      <td>EXCH</td>\n",
       "      <td>TOT</td>\n",
       "      <td>NATUSD</td>\n",
       "      <td>A</td>\n",
       "      <td>1950</td>\n",
       "      <td>0.892857</td>\n",
       "      <td>NaN</td>\n",
       "    </tr>\n",
       "    <tr>\n",
       "      <th>1</th>\n",
       "      <td>AUS</td>\n",
       "      <td>EXCH</td>\n",
       "      <td>TOT</td>\n",
       "      <td>NATUSD</td>\n",
       "      <td>A</td>\n",
       "      <td>1951</td>\n",
       "      <td>0.892857</td>\n",
       "      <td>NaN</td>\n",
       "    </tr>\n",
       "    <tr>\n",
       "      <th>2</th>\n",
       "      <td>AUS</td>\n",
       "      <td>EXCH</td>\n",
       "      <td>TOT</td>\n",
       "      <td>NATUSD</td>\n",
       "      <td>A</td>\n",
       "      <td>1952</td>\n",
       "      <td>0.892857</td>\n",
       "      <td>NaN</td>\n",
       "    </tr>\n",
       "    <tr>\n",
       "      <th>3</th>\n",
       "      <td>AUS</td>\n",
       "      <td>EXCH</td>\n",
       "      <td>TOT</td>\n",
       "      <td>NATUSD</td>\n",
       "      <td>A</td>\n",
       "      <td>1953</td>\n",
       "      <td>0.892857</td>\n",
       "      <td>NaN</td>\n",
       "    </tr>\n",
       "    <tr>\n",
       "      <th>4</th>\n",
       "      <td>AUS</td>\n",
       "      <td>EXCH</td>\n",
       "      <td>TOT</td>\n",
       "      <td>NATUSD</td>\n",
       "      <td>A</td>\n",
       "      <td>1954</td>\n",
       "      <td>0.892857</td>\n",
       "      <td>NaN</td>\n",
       "    </tr>\n",
       "  </tbody>\n",
       "</table>\n",
       "</div>"
      ],
      "text/plain": [
       "  LOCATION INDICATOR SUBJECT MEASURE FREQUENCY  TIME     Value  Flag Codes\n",
       "0      AUS      EXCH     TOT  NATUSD         A  1950  0.892857         NaN\n",
       "1      AUS      EXCH     TOT  NATUSD         A  1951  0.892857         NaN\n",
       "2      AUS      EXCH     TOT  NATUSD         A  1952  0.892857         NaN\n",
       "3      AUS      EXCH     TOT  NATUSD         A  1953  0.892857         NaN\n",
       "4      AUS      EXCH     TOT  NATUSD         A  1954  0.892857         NaN"
      ]
     },
     "execution_count": 2,
     "metadata": {},
     "output_type": "execute_result"
    }
   ],
   "source": [
    "dataset = pd.read_csv('data/DP_LIVE_28072017153058754.csv')\n",
    "dataset.head()"
   ]
  },
  {
   "cell_type": "markdown",
   "metadata": {},
   "source": [
    "Select data from different countries separately:"
   ]
  },
  {
   "cell_type": "code",
   "execution_count": 13,
   "metadata": {},
   "outputs": [],
   "source": [
    "data_aus = dataset[dataset['LOCATION']=='AUS']\n",
    "data_fin = dataset[dataset['LOCATION']=='FIN']\n",
    "data_swe = dataset[dataset['LOCATION']=='SWE']\n"
   ]
  },
  {
   "cell_type": "code",
   "execution_count": 14,
   "metadata": {},
   "outputs": [
    {
     "data": {
      "image/png": "[encoded data removed]",
      "text/plain": [
       "<matplotlib.figure.Figure at 0x1fbef16f470>"
      ]
     },
     "metadata": {},
     "output_type": "display_data"
    }
   ],
   "source": [
    "plt.plot(data_aus['TIME'],data_aus['Value'], label='AUS')\n",
    "plt.plot(data_fin['TIME'],data_fin['Value'], label='FIN')\n",
    "plt.plot(data_swe['TIME'],data_swe['Value'], label='SWE')\n",
    "\n",
    "plt.legend(loc='upper left')\n",
    "\n",
    "plt.show()"
   ]
  },
  {
   "cell_type": "code",
   "execution_count": null,
   "metadata": {
    "collapsed": true
   },
   "outputs": [],
   "source": []
  }
 ],
 "metadata": {
  "kernelspec": {
   "display_name": "Python 3",
   "language": "python",
   "name": "python3"
  },
  "language_info": {
   "codemirror_mode": {
    "name": "ipython",
    "version": 3
   },
   "file_extension": ".py",
   "mimetype": "text/x-python",
   "name": "python",
   "nbconvert_exporter": "python",
   "pygments_lexer": "ipython3",
   "version": "3.6.0"
  }
 },
 "nbformat": 4,
 "nbformat_minor": 2
}
