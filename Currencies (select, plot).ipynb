{
 "cells": [
  {
   "cell_type": "markdown",
   "metadata": {},
   "source": [
    "This notebook analyses exchange rates of several currencies with respect to USD. Source: https://data.oecd.org/conversion/exchange-rates.htm"
   ]
  },
  {
   "cell_type": "code",
   "execution_count": 1,
   "metadata": {
    "collapsed": true
   },
   "outputs": [],
   "source": [
    "import pandas as pd\n",
    "import numpy as np\n",
    "import matplotlib.pyplot as plt"
   ]
  },
  {
   "cell_type": "code",
   "execution_count": 2,
   "metadata": {},
   "outputs": [
    {
     "data": {
      "text/html": [
       "<div>\n",
       "<table border=\"1\" class=\"dataframe\">\n",
       "  <thead>\n",
       "    <tr style=\"text-align: right;\">\n",
       "      <th></th>\n",
       "      <th>LOCATION</th>\n",
       "      <th>INDICATOR</th>\n",
       "      <th>SUBJECT</th>\n",
       "      <th>MEASURE</th>\n",
       "      <th>FREQUENCY</th>\n",
       "      <th>TIME</th>\n",
       "      <th>Value</th>\n",
       "      <th>Flag Codes</th>\n",
       "    </tr>\n",
       "  </thead>\n",
       "  <tbody>\n",
       "    <tr>\n",
       "      <th>0</th>\n",
       "      <td>AUS</td>\n",
       "      <td>EXCH</td>\n",
       "      <td>TOT</td>\n",
       "      <td>NATUSD</td>\n",
       "      <td>A</td>\n",
       "      <td>1950</td>\n",
       "      <td>0.892857</td>\n",
       "      <td>NaN</td>\n",
       "    </tr>\n",
       "    <tr>\n",
       "      <th>1</th>\n",
       "      <td>AUS</td>\n",
       "      <td>EXCH</td>\n",
       "      <td>TOT</td>\n",
       "      <td>NATUSD</td>\n",
       "      <td>A</td>\n",
       "      <td>1951</td>\n",
       "      <td>0.892857</td>\n",
       "      <td>NaN</td>\n",
       "    </tr>\n",
       "    <tr>\n",
       "      <th>2</th>\n",
       "      <td>AUS</td>\n",
       "      <td>EXCH</td>\n",
       "      <td>TOT</td>\n",
       "      <td>NATUSD</td>\n",
       "      <td>A</td>\n",
       "      <td>1952</td>\n",
       "      <td>0.892857</td>\n",
       "      <td>NaN</td>\n",
       "    </tr>\n",
       "    <tr>\n",
       "      <th>3</th>\n",
       "      <td>AUS</td>\n",
       "      <td>EXCH</td>\n",
       "      <td>TOT</td>\n",
       "      <td>NATUSD</td>\n",
       "      <td>A</td>\n",
       "      <td>1953</td>\n",
       "      <td>0.892857</td>\n",
       "      <td>NaN</td>\n",
       "    </tr>\n",
       "    <tr>\n",
       "      <th>4</th>\n",
       "      <td>AUS</td>\n",
       "      <td>EXCH</td>\n",
       "      <td>TOT</td>\n",
       "      <td>NATUSD</td>\n",
       "      <td>A</td>\n",
       "      <td>1954</td>\n",
       "      <td>0.892857</td>\n",
       "      <td>NaN</td>\n",
       "    </tr>\n",
       "  </tbody>\n",
       "</table>\n",
       "</div>"
      ],
      "text/plain": [
       "  LOCATION INDICATOR SUBJECT MEASURE FREQUENCY  TIME     Value  Flag Codes\n",
       "0      AUS      EXCH     TOT  NATUSD         A  1950  0.892857         NaN\n",
       "1      AUS      EXCH     TOT  NATUSD         A  1951  0.892857         NaN\n",
       "2      AUS      EXCH     TOT  NATUSD         A  1952  0.892857         NaN\n",
       "3      AUS      EXCH     TOT  NATUSD         A  1953  0.892857         NaN\n",
       "4      AUS      EXCH     TOT  NATUSD         A  1954  0.892857         NaN"
      ]
     },
     "execution_count": 2,
     "metadata": {},
     "output_type": "execute_result"
    }
   ],
   "source": [
    "dataset = pd.read_csv('data/DP_LIVE_28072017153058754.csv')\n",
    "dataset.head()"
   ]
  },
  {
   "cell_type": "markdown",
   "metadata": {},
   "source": [
    "Select data from different countries separately:"
   ]
  },
  {
   "cell_type": "code",
   "execution_count": 82,
   "metadata": {},
   "outputs": [],
   "source": [
    "data_aus = dataset[dataset['LOCATION']=='AUS']\n",
    "data_fin = dataset[dataset['LOCATION']=='FIN']\n",
    "data_swe = dataset[dataset['LOCATION']=='SWE']\n",
    "data_che = dataset[dataset['LOCATION']=='CHE']\n"
   ]
  },
  {
   "cell_type": "code",
   "execution_count": 83,
   "metadata": {},
   "outputs": [
    {
     "data": {
      "image/png": "[encoded data removed]",
      "text/plain": [
       "<matplotlib.figure.Figure at 0x1fbef5eccf8>"
      ]
     },
     "metadata": {},
     "output_type": "display_data"
    }
   ],
   "source": [
    "plt.plot(data_aus['TIME'],data_aus['Value'], label='AUS')\n",
    "plt.plot(data_fin['TIME'],data_fin['Value'], label='FIN')\n",
    "plt.plot(data_swe['TIME'],data_swe['Value'], label='SWE')\n",
    "plt.plot(data_che['TIME'],data_che['Value'], label='CHE')\n",
    "\n",
    "plt.legend(loc='upper left')\n",
    "\n",
    "plt.show()"
   ]
  },
  {
   "cell_type": "markdown",
   "metadata": {},
   "source": [
    "Scale to a value of a chosen year to see the relative change:"
   ]
  },
  {
   "cell_type": "code",
   "execution_count": 66,
   "metadata": {
    "collapsed": true
   },
   "outputs": [],
   "source": [
    "ref_year = 1970"
   ]
  },
  {
   "cell_type": "markdown",
   "metadata": {},
   "source": [
    "Find the index of the row corresponding to the selected reference year for each of the datasets (a shorter way may exist but I have not found it yet...)"
   ]
  },
  {
   "cell_type": "code",
   "execution_count": 75,
   "metadata": {},
   "outputs": [
    {
     "data": {
      "text/plain": [
       "20"
      ]
     },
     "execution_count": 75,
     "metadata": {},
     "output_type": "execute_result"
    }
   ],
   "source": [
    "idx_aus = data_aus['Value'][data_aus['TIME']==ref_year].index.tolist()[0]\n",
    "idx_aus"
   ]
  },
  {
   "cell_type": "code",
   "execution_count": 68,
   "metadata": {},
   "outputs": [
    {
     "data": {
      "text/html": [
       "<div>\n",
       "<table border=\"1\" class=\"dataframe\">\n",
       "  <thead>\n",
       "    <tr style=\"text-align: right;\">\n",
       "      <th></th>\n",
       "      <th>LOCATION</th>\n",
       "      <th>INDICATOR</th>\n",
       "      <th>SUBJECT</th>\n",
       "      <th>MEASURE</th>\n",
       "      <th>FREQUENCY</th>\n",
       "      <th>TIME</th>\n",
       "      <th>Value</th>\n",
       "      <th>Flag Codes</th>\n",
       "    </tr>\n",
       "  </thead>\n",
       "  <tbody>\n",
       "    <tr>\n",
       "      <th>362</th>\n",
       "      <td>FIN</td>\n",
       "      <td>EXCH</td>\n",
       "      <td>TOT</td>\n",
       "      <td>NATUSD</td>\n",
       "      <td>A</td>\n",
       "      <td>1950</td>\n",
       "      <td>0.388514</td>\n",
       "      <td>NaN</td>\n",
       "    </tr>\n",
       "    <tr>\n",
       "      <th>363</th>\n",
       "      <td>FIN</td>\n",
       "      <td>EXCH</td>\n",
       "      <td>TOT</td>\n",
       "      <td>NATUSD</td>\n",
       "      <td>A</td>\n",
       "      <td>1951</td>\n",
       "      <td>0.386832</td>\n",
       "      <td>NaN</td>\n",
       "    </tr>\n",
       "    <tr>\n",
       "      <th>364</th>\n",
       "      <td>FIN</td>\n",
       "      <td>EXCH</td>\n",
       "      <td>TOT</td>\n",
       "      <td>NATUSD</td>\n",
       "      <td>A</td>\n",
       "      <td>1952</td>\n",
       "      <td>0.386832</td>\n",
       "      <td>NaN</td>\n",
       "    </tr>\n",
       "    <tr>\n",
       "      <th>365</th>\n",
       "      <td>FIN</td>\n",
       "      <td>EXCH</td>\n",
       "      <td>TOT</td>\n",
       "      <td>NATUSD</td>\n",
       "      <td>A</td>\n",
       "      <td>1953</td>\n",
       "      <td>0.386832</td>\n",
       "      <td>NaN</td>\n",
       "    </tr>\n",
       "    <tr>\n",
       "      <th>366</th>\n",
       "      <td>FIN</td>\n",
       "      <td>EXCH</td>\n",
       "      <td>TOT</td>\n",
       "      <td>NATUSD</td>\n",
       "      <td>A</td>\n",
       "      <td>1954</td>\n",
       "      <td>0.386832</td>\n",
       "      <td>NaN</td>\n",
       "    </tr>\n",
       "  </tbody>\n",
       "</table>\n",
       "</div>"
      ],
      "text/plain": [
       "    LOCATION INDICATOR SUBJECT MEASURE FREQUENCY  TIME     Value  Flag Codes\n",
       "362      FIN      EXCH     TOT  NATUSD         A  1950  0.388514         NaN\n",
       "363      FIN      EXCH     TOT  NATUSD         A  1951  0.386832         NaN\n",
       "364      FIN      EXCH     TOT  NATUSD         A  1952  0.386832         NaN\n",
       "365      FIN      EXCH     TOT  NATUSD         A  1953  0.386832         NaN\n",
       "366      FIN      EXCH     TOT  NATUSD         A  1954  0.386832         NaN"
      ]
     },
     "execution_count": 68,
     "metadata": {},
     "output_type": "execute_result"
    }
   ],
   "source": [
    "data_fin.head()"
   ]
  },
  {
   "cell_type": "code",
   "execution_count": 69,
   "metadata": {},
   "outputs": [
    {
     "data": {
      "text/plain": [
       "382"
      ]
     },
     "execution_count": 69,
     "metadata": {},
     "output_type": "execute_result"
    }
   ],
   "source": [
    "idx_fin = data_fin['Value'][data_fin['TIME']==ref_year].index.tolist()[0]\n",
    "idx_fin"
   ]
  },
  {
   "cell_type": "raw",
   "metadata": {},
   "source": []
  },
  {
   "cell_type": "code",
   "execution_count": 70,
   "metadata": {},
   "outputs": [
    {
     "data": {
      "text/html": [
       "<div>\n",
       "<table border=\"1\" class=\"dataframe\">\n",
       "  <thead>\n",
       "    <tr style=\"text-align: right;\">\n",
       "      <th></th>\n",
       "      <th>LOCATION</th>\n",
       "      <th>INDICATOR</th>\n",
       "      <th>SUBJECT</th>\n",
       "      <th>MEASURE</th>\n",
       "      <th>FREQUENCY</th>\n",
       "      <th>TIME</th>\n",
       "      <th>Value</th>\n",
       "      <th>Flag Codes</th>\n",
       "    </tr>\n",
       "  </thead>\n",
       "  <tbody>\n",
       "    <tr>\n",
       "      <th>1574</th>\n",
       "      <td>SWE</td>\n",
       "      <td>EXCH</td>\n",
       "      <td>TOT</td>\n",
       "      <td>NATUSD</td>\n",
       "      <td>A</td>\n",
       "      <td>1950</td>\n",
       "      <td>5.172771</td>\n",
       "      <td>NaN</td>\n",
       "    </tr>\n",
       "    <tr>\n",
       "      <th>1575</th>\n",
       "      <td>SWE</td>\n",
       "      <td>EXCH</td>\n",
       "      <td>TOT</td>\n",
       "      <td>NATUSD</td>\n",
       "      <td>A</td>\n",
       "      <td>1951</td>\n",
       "      <td>5.173210</td>\n",
       "      <td>NaN</td>\n",
       "    </tr>\n",
       "    <tr>\n",
       "      <th>1576</th>\n",
       "      <td>SWE</td>\n",
       "      <td>EXCH</td>\n",
       "      <td>TOT</td>\n",
       "      <td>NATUSD</td>\n",
       "      <td>A</td>\n",
       "      <td>1952</td>\n",
       "      <td>5.173210</td>\n",
       "      <td>NaN</td>\n",
       "    </tr>\n",
       "    <tr>\n",
       "      <th>1577</th>\n",
       "      <td>SWE</td>\n",
       "      <td>EXCH</td>\n",
       "      <td>TOT</td>\n",
       "      <td>NATUSD</td>\n",
       "      <td>A</td>\n",
       "      <td>1953</td>\n",
       "      <td>5.173210</td>\n",
       "      <td>NaN</td>\n",
       "    </tr>\n",
       "    <tr>\n",
       "      <th>1578</th>\n",
       "      <td>SWE</td>\n",
       "      <td>EXCH</td>\n",
       "      <td>TOT</td>\n",
       "      <td>NATUSD</td>\n",
       "      <td>A</td>\n",
       "      <td>1954</td>\n",
       "      <td>5.173210</td>\n",
       "      <td>NaN</td>\n",
       "    </tr>\n",
       "  </tbody>\n",
       "</table>\n",
       "</div>"
      ],
      "text/plain": [
       "     LOCATION INDICATOR SUBJECT MEASURE FREQUENCY  TIME     Value  Flag Codes\n",
       "1574      SWE      EXCH     TOT  NATUSD         A  1950  5.172771         NaN\n",
       "1575      SWE      EXCH     TOT  NATUSD         A  1951  5.173210         NaN\n",
       "1576      SWE      EXCH     TOT  NATUSD         A  1952  5.173210         NaN\n",
       "1577      SWE      EXCH     TOT  NATUSD         A  1953  5.173210         NaN\n",
       "1578      SWE      EXCH     TOT  NATUSD         A  1954  5.173210         NaN"
      ]
     },
     "execution_count": 70,
     "metadata": {},
     "output_type": "execute_result"
    }
   ],
   "source": [
    "data_swe.head()"
   ]
  },
  {
   "cell_type": "code",
   "execution_count": 71,
   "metadata": {},
   "outputs": [
    {
     "data": {
      "text/plain": [
       "1574"
      ]
     },
     "execution_count": 71,
     "metadata": {},
     "output_type": "execute_result"
    }
   ],
   "source": [
    "idx_swe = data_swe['Value'][data_swe['TIME']==1950].index.tolist()[0]\n",
    "idx_swe"
   ]
  },
  {
   "cell_type": "code",
   "execution_count": 84,
   "metadata": {},
   "outputs": [
    {
     "data": {
      "text/plain": [
       "1661"
      ]
     },
     "execution_count": 84,
     "metadata": {},
     "output_type": "execute_result"
    }
   ],
   "source": [
    "idx_che = data_che['Value'][data_che['TIME']==ref_year].index.tolist()[0]\n",
    "idx_che"
   ]
  },
  {
   "cell_type": "markdown",
   "metadata": {},
   "source": [
    "Plot the exchange rates scaled to the value of the selected reference year:"
   ]
  },
  {
   "cell_type": "code",
   "execution_count": 90,
   "metadata": {},
   "outputs": [
    {
     "data": {
      "image/png": "[encoded data removed]",
      "text/plain": [
       "<matplotlib.figure.Figure at 0x1fbef403668>"
      ]
     },
     "metadata": {},
     "output_type": "display_data"
    }
   ],
   "source": [
    "plt.plot(data_aus['TIME'],data_aus['Value']/data_aus['Value'][idx_aus], label='Australia')\n",
    "plt.plot(data_fin['TIME'],data_fin['Value']/data_fin['Value'][idx_fin], label='Finland')\n",
    "plt.plot(data_swe['TIME'],data_swe['Value']/data_swe['Value'][idx_swe], label='Sweden')\n",
    "plt.plot(data_che['TIME'],data_che['Value']/data_che['Value'][idx_che], label='Switzerland')\n",
    "\n",
    "\n",
    "plt.legend(loc='upper left')\n",
    "\n",
    "plt.xlabel('Year')\n",
    "plt.ylabel('Exchange rate change w.r.t. %s'%(ref_year))\n",
    "plt.title('Exchange rate to USD relative to year %s\\n'%(ref_year))\n",
    "\n",
    "plt.show()"
   ]
  },
  {
   "cell_type": "code",
   "execution_count": null,
   "metadata": {
    "collapsed": true
   },
   "outputs": [],
   "source": []
  }
 ],
 "metadata": {
  "kernelspec": {
   "display_name": "Python 3",
   "language": "python",
   "name": "python3"
  },
  "language_info": {
   "codemirror_mode": {
    "name": "ipython",
    "version": 3
   },
   "file_extension": ".py",
   "mimetype": "text/x-python",
   "name": "python",
   "nbconvert_exporter": "python",
   "pygments_lexer": "ipython3",
   "version": "3.6.0"
  }
 },
 "nbformat": 4,
 "nbformat_minor": 2
}
